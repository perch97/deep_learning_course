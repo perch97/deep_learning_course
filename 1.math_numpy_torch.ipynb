{
 "cells": [
  {
   "cell_type": "code",
   "execution_count": 3,
   "metadata": {},
   "outputs": [],
   "source": [
    "#import libraries\n",
    "import numpy as np\n",
    "import torch"
   ]
  },
  {
   "cell_type": "code",
   "execution_count": 2,
   "metadata": {},
   "outputs": [
    {
     "name": "stdout",
     "output_type": "stream",
     "text": [
      "Collecting torch\n",
      "  Downloading torch-2.0.0-cp38-none-macosx_10_9_x86_64.whl (139.5 MB)\n",
      "\u001b[K     |████████████████████████████████| 139.5 MB 788 kB/s eta 0:00:01     |███████████████████████▌        | 102.4 MB 814 kB/s eta 0:00:46     |██████████████████████████████▌ | 133.0 MB 2.2 MB/s eta 0:00:03\n",
      "\u001b[?25hRequirement already satisfied: jinja2 in ./opt/anaconda3/lib/python3.8/site-packages (from torch) (2.11.2)\n",
      "Requirement already satisfied: filelock in ./opt/anaconda3/lib/python3.8/site-packages (from torch) (3.0.12)\n",
      "Requirement already satisfied: typing-extensions in ./opt/anaconda3/lib/python3.8/site-packages (from torch) (3.7.4.3)\n",
      "Requirement already satisfied: sympy in ./opt/anaconda3/lib/python3.8/site-packages (from torch) (1.6.2)\n",
      "Requirement already satisfied: networkx in ./opt/anaconda3/lib/python3.8/site-packages (from torch) (2.5)\n",
      "Requirement already satisfied: MarkupSafe>=0.23 in ./opt/anaconda3/lib/python3.8/site-packages (from jinja2->torch) (1.1.1)\n",
      "Requirement already satisfied: decorator>=4.3.0 in ./opt/anaconda3/lib/python3.8/site-packages (from networkx->torch) (4.4.2)\n",
      "Requirement already satisfied: mpmath>=0.19 in ./opt/anaconda3/lib/python3.8/site-packages (from sympy->torch) (1.1.0)\n",
      "Installing collected packages: torch\n",
      "Successfully installed torch-2.0.0\n",
      "\u001b[33mWARNING: You are using pip version 20.3.3; however, version 23.0.1 is available.\n",
      "You should consider upgrading via the '/Users/vadimsmirnov/opt/anaconda3/bin/python -m pip install --upgrade pip' command.\u001b[0m\n",
      "Note: you may need to restart the kernel to use updated packages.\n"
     ]
    }
   ],
   "source": [
    "pip install torch"
   ]
  },
  {
   "cell_type": "code",
   "execution_count": 8,
   "metadata": {},
   "outputs": [
    {
     "name": "stdout",
     "output_type": "stream",
     "text": [
      "[[1 2 3 4]]\n",
      " \n"
     ]
    },
    {
     "data": {
      "text/plain": [
       "(None, None)"
      ]
     },
     "execution_count": 8,
     "metadata": {},
     "output_type": "execute_result"
    }
   ],
   "source": [
    "nv = np.array([[1,2,3,4]])\n",
    "print(nv),print(' ')"
   ]
  },
  {
   "cell_type": "code",
   "execution_count": 9,
   "metadata": {},
   "outputs": [
    {
     "name": "stdout",
     "output_type": "stream",
     "text": [
      "[[1]\n",
      " [2]\n",
      " [3]\n",
      " [4]]\n"
     ]
    }
   ],
   "source": [
    "print(nv.T)"
   ]
  },
  {
   "cell_type": "code",
   "execution_count": 10,
   "metadata": {},
   "outputs": [
    {
     "name": "stdout",
     "output_type": "stream",
     "text": [
      "[[1 2 3 4]]\n"
     ]
    }
   ],
   "source": [
    "nvT = nv.T\n",
    "print(nvT.T)"
   ]
  },
  {
   "cell_type": "code",
   "execution_count": 11,
   "metadata": {},
   "outputs": [
    {
     "name": "stdout",
     "output_type": "stream",
     "text": [
      "[[1 2 3 4]\n",
      " [5 6 7 8]]\n"
     ]
    }
   ],
   "source": [
    "nM = np.array([[1,2,3,4],[5,6,7,8]])\n",
    "print(nM)"
   ]
  },
  {
   "cell_type": "code",
   "execution_count": 12,
   "metadata": {},
   "outputs": [
    {
     "name": "stdout",
     "output_type": "stream",
     "text": [
      "tensor([[1, 2, 3, 4]])\n"
     ]
    }
   ],
   "source": [
    "tv = torch.tensor([[1,2,3,4]])\n",
    "print(tv)"
   ]
  },
  {
   "cell_type": "code",
   "execution_count": 13,
   "metadata": {},
   "outputs": [
    {
     "name": "stdout",
     "output_type": "stream",
     "text": [
      "tensor([[1],\n",
      "        [2],\n",
      "        [3],\n",
      "        [4]])\n"
     ]
    }
   ],
   "source": [
    "tvT = tv.T\n",
    "print(tvT)"
   ]
  },
  {
   "cell_type": "code",
   "execution_count": 14,
   "metadata": {},
   "outputs": [
    {
     "name": "stdout",
     "output_type": "stream",
     "text": [
      "tensor([[1, 2, 3, 4]])\n"
     ]
    }
   ],
   "source": [
    "print(tvT.T)"
   ]
  },
  {
   "cell_type": "code",
   "execution_count": 15,
   "metadata": {},
   "outputs": [
    {
     "data": {
      "text/plain": [
       "-2"
      ]
     },
     "execution_count": 15,
     "metadata": {},
     "output_type": "execute_result"
    }
   ],
   "source": [
    "nv1 = np.array([1,2,3,4])\n",
    "nv2 = np.array([0,1,0,-1])\n",
    "np.dot(nv1,nv2)"
   ]
  },
  {
   "cell_type": "code",
   "execution_count": 16,
   "metadata": {},
   "outputs": [
    {
     "data": {
      "text/plain": [
       "array([ 0,  2,  0, -4])"
      ]
     },
     "execution_count": 16,
     "metadata": {},
     "output_type": "execute_result"
    }
   ],
   "source": [
    "nv1*nv2"
   ]
  },
  {
   "cell_type": "code",
   "execution_count": 17,
   "metadata": {},
   "outputs": [],
   "source": [
    "tv1 = torch.tensor([1,2,3,4])\n",
    "tv2 = torch.tensor([0,1,0,-1])"
   ]
  },
  {
   "cell_type": "code",
   "execution_count": 18,
   "metadata": {},
   "outputs": [
    {
     "data": {
      "text/plain": [
       "tensor(-2)"
      ]
     },
     "execution_count": 18,
     "metadata": {},
     "output_type": "execute_result"
    }
   ],
   "source": [
    "torch.dot(tv1,tv2)"
   ]
  },
  {
   "cell_type": "code",
   "execution_count": 19,
   "metadata": {},
   "outputs": [
    {
     "name": "stdout",
     "output_type": "stream",
     "text": [
      "[[-1.45  1.48  0.52  1.05  0.84]\n",
      " [ 0.05 -1.32 -2.69 -2.06  0.8 ]\n",
      " [-0.59  0.21 -0.23 -1.71 -0.33]]\n"
     ]
    }
   ],
   "source": [
    "#create some random matrices\n",
    "\n",
    "A = np.random.randn(3,4)\n",
    "B = np.random.randn(4,5)\n",
    "C = np.random.randn(3,7)\n",
    "\n",
    "print(np.round(A@B,2))"
   ]
  },
  {
   "cell_type": "code",
   "execution_count": 20,
   "metadata": {},
   "outputs": [
    {
     "data": {
      "text/plain": [
       "array([[-2.31760708,  0.03657672, -2.23527677,  1.74539952,  0.95156808,\n",
       "        -0.23006898, -0.44642765],\n",
       "       [ 0.4820011 ,  0.38811634,  0.81496789,  0.87159276,  0.55722454,\n",
       "         0.85179914,  0.35375623],\n",
       "       [ 1.33136857,  0.61439912,  4.32816004,  1.40504402, -3.45928852,\n",
       "         2.57960068, -0.71370517],\n",
       "       [ 0.31114277,  0.29715078,  1.9070495 ,  0.93764525, -1.77806761,\n",
       "         1.26884068, -0.49073276]])"
      ]
     },
     "execution_count": 20,
     "metadata": {},
     "output_type": "execute_result"
    }
   ],
   "source": [
    "np.matmul(A.T,C)"
   ]
  },
  {
   "cell_type": "code",
   "execution_count": 23,
   "metadata": {},
   "outputs": [],
   "source": [
    "#using Pytorch\n",
    "A = torch.randn(3,4)\n",
    "B = torch.randn(4,5)\n",
    "C1 = np.random.randn(4,7)\n",
    "C2 = torch.tensor(C1,dtype=torch.float)"
   ]
  },
  {
   "cell_type": "code",
   "execution_count": 24,
   "metadata": {},
   "outputs": [
    {
     "data": {
      "text/plain": [
       "tensor([[-0.2164,  1.6357, -0.1862,  0.7308,  1.1746],\n",
       "        [-0.0306,  2.8724, -1.0026,  2.7236,  4.6582],\n",
       "        [-0.5100,  1.8548,  0.8690, -0.7060, -0.8363]])"
      ]
     },
     "execution_count": 24,
     "metadata": {},
     "output_type": "execute_result"
    }
   ],
   "source": [
    "A@B"
   ]
  },
  {
   "cell_type": "code",
   "execution_count": 46,
   "metadata": {},
   "outputs": [],
   "source": [
    "import torch.nn as nn\n",
    "import matplotlib.pyplot as plt"
   ]
  },
  {
   "cell_type": "code",
   "execution_count": 38,
   "metadata": {},
   "outputs": [
    {
     "name": "stdout",
     "output_type": "stream",
     "text": [
      "[0.09003057 0.24472847 0.66524096]\n",
      "1.0\n"
     ]
    }
   ],
   "source": [
    "z = [1,2,3]\n",
    "#compute the softmax result\n",
    "num = np.exp(z)\n",
    "den = np.sum(np.exp(z))\n",
    "sigma = num/den\n",
    "print(sigma)\n",
    "print(np.sum(sigma))"
   ]
  },
  {
   "cell_type": "code",
   "execution_count": 53,
   "metadata": {},
   "outputs": [],
   "source": [
    "z1 = np.random.randint(-10,high = 10, size =250)"
   ]
  },
  {
   "cell_type": "code",
   "execution_count": 54,
   "metadata": {},
   "outputs": [],
   "source": [
    "sigma1 = np.exp(z1)/np.sum(np.exp(z1))"
   ]
  },
  {
   "cell_type": "code",
   "execution_count": 55,
   "metadata": {},
   "outputs": [
    {
     "name": "stdout",
     "output_type": "stream",
     "text": [
      "[5.65309875e-03 4.17710638e-02 2.81451214e-04 2.81451214e-04\n",
      " 5.65309875e-03 3.47338391e-08 1.27778653e-08 6.97647809e-07\n",
      " 5.15495880e-06 3.80902797e-05 1.72929602e-09 6.97647809e-07\n",
      " 9.44163638e-08 1.27778653e-08 4.70071396e-09 5.15495880e-06\n",
      " 5.65309875e-03 7.65063720e-04 7.65063720e-04 5.15495880e-06\n",
      " 2.34034767e-10 4.17710638e-02 2.81451214e-04 4.17710638e-02\n",
      " 1.53667156e-02 5.15495880e-06 1.72929602e-09 1.40126308e-05\n",
      " 6.97647809e-07 1.53667156e-02 3.80902797e-05 2.81451214e-04\n",
      " 1.53667156e-02 2.07965881e-03 5.15495880e-06 3.47338391e-08\n",
      " 1.89640336e-06 9.44163638e-08 6.36172455e-10 6.36172455e-10\n",
      " 9.44163638e-08 7.65063720e-04 1.89640336e-06 2.81451214e-04\n",
      " 1.40126308e-05 6.97647809e-07 1.89640336e-06 3.47338391e-08\n",
      " 6.36172455e-10 1.27778653e-08 1.03540115e-04 1.72929602e-09\n",
      " 7.65063720e-04 2.34034767e-10 6.97647809e-07 1.72929602e-09\n",
      " 1.27778653e-08 1.53667156e-02 4.17710638e-02 3.47338391e-08\n",
      " 4.70071396e-09 2.07965881e-03 2.81451214e-04 5.65309875e-03\n",
      " 2.81451214e-04 2.07965881e-03 2.81451214e-04 4.70071396e-09\n",
      " 9.44163638e-08 7.65063720e-04 1.40126308e-05 4.70071396e-09\n",
      " 3.47338391e-08 2.07965881e-03 9.44163638e-08 1.53667156e-02\n",
      " 1.40126308e-05 2.81451214e-04 2.56650286e-07 4.17710638e-02\n",
      " 6.36172455e-10 1.03540115e-04 1.53667156e-02 5.15495880e-06\n",
      " 3.80902797e-05 1.03540115e-04 6.97647809e-07 1.27778653e-08\n",
      " 5.65309875e-03 5.65309875e-03 3.47338391e-08 5.65309875e-03\n",
      " 2.34034767e-10 1.53667156e-02 6.36172455e-10 6.97647809e-07\n",
      " 4.17710638e-02 9.44163638e-08 2.34034767e-10 3.47338391e-08\n",
      " 4.70071396e-09 6.97647809e-07 1.53667156e-02 6.36172455e-10\n",
      " 4.17710638e-02 2.07965881e-03 3.80902797e-05 3.80902797e-05\n",
      " 3.80902797e-05 9.44163638e-08 5.65309875e-03 6.36172455e-10\n",
      " 1.03540115e-04 6.36172455e-10 5.65309875e-03 4.17710638e-02\n",
      " 5.65309875e-03 1.72929602e-09 2.07965881e-03 5.65309875e-03\n",
      " 7.65063720e-04 1.53667156e-02 3.80902797e-05 1.27778653e-08\n",
      " 2.56650286e-07 1.27778653e-08 2.56650286e-07 2.81451214e-04\n",
      " 4.17710638e-02 1.53667156e-02 9.44163638e-08 2.81451214e-04\n",
      " 1.40126308e-05 2.81451214e-04 1.53667156e-02 2.34034767e-10\n",
      " 2.07965881e-03 6.97647809e-07 3.80902797e-05 1.03540115e-04\n",
      " 5.15495880e-06 4.17710638e-02 9.44163638e-08 1.53667156e-02\n",
      " 6.97647809e-07 9.44163638e-08 1.27778653e-08 1.03540115e-04\n",
      " 6.97647809e-07 1.27778653e-08 1.53667156e-02 1.03540115e-04\n",
      " 1.27778653e-08 2.07965881e-03 4.70071396e-09 6.36172455e-10\n",
      " 1.53667156e-02 2.56650286e-07 4.70071396e-09 6.36172455e-10\n",
      " 1.03540115e-04 2.56650286e-07 1.53667156e-02 1.89640336e-06\n",
      " 6.97647809e-07 1.27778653e-08 2.81451214e-04 1.27778653e-08\n",
      " 7.65063720e-04 6.36172455e-10 2.81451214e-04 1.89640336e-06\n",
      " 7.65063720e-04 5.15495880e-06 4.17710638e-02 3.47338391e-08\n",
      " 2.81451214e-04 1.03540115e-04 1.40126308e-05 5.65309875e-03\n",
      " 5.65309875e-03 9.44163638e-08 6.36172455e-10 3.47338391e-08\n",
      " 5.15495880e-06 2.07965881e-03 1.27778653e-08 5.15495880e-06\n",
      " 7.65063720e-04 1.03540115e-04 6.97647809e-07 3.47338391e-08\n",
      " 6.97647809e-07 7.65063720e-04 7.65063720e-04 6.36172455e-10\n",
      " 1.53667156e-02 3.80902797e-05 2.34034767e-10 3.80902797e-05\n",
      " 2.07965881e-03 3.47338391e-08 6.36172455e-10 1.89640336e-06\n",
      " 4.70071396e-09 2.81451214e-04 6.36172455e-10 4.17710638e-02\n",
      " 5.15495880e-06 2.56650286e-07 1.03540115e-04 2.34034767e-10\n",
      " 1.53667156e-02 9.44163638e-08 1.27778653e-08 1.72929602e-09\n",
      " 9.44163638e-08 1.89640336e-06 2.81451214e-04 2.34034767e-10\n",
      " 9.44163638e-08 3.47338391e-08 1.27778653e-08 5.15495880e-06\n",
      " 5.15495880e-06 6.97647809e-07 2.56650286e-07 7.65063720e-04\n",
      " 6.97647809e-07 2.34034767e-10 1.72929602e-09 1.03540115e-04\n",
      " 6.36172455e-10 4.17710638e-02 4.17710638e-02 3.47338391e-08\n",
      " 2.34034767e-10 1.89640336e-06 4.17710638e-02 9.44163638e-08\n",
      " 6.97647809e-07 2.07965881e-03 3.47338391e-08 4.70071396e-09\n",
      " 1.40126308e-05 3.47338391e-08 1.72929602e-09 5.15495880e-06\n",
      " 3.80902797e-05 5.15495880e-06]\n",
      "1.0000000000000002\n"
     ]
    }
   ],
   "source": [
    "print(sigma1)\n",
    "print(np.sum(sigma1))"
   ]
  },
  {
   "cell_type": "code",
   "execution_count": 58,
   "metadata": {},
   "outputs": [
    {
     "data": {
      "image/png": "[encoded data removed]",
      "text/plain": [
       "<Figure size 432x288 with 1 Axes>"
      ]
     },
     "metadata": {
      "needs_background": "light"
     },
     "output_type": "display_data"
    }
   ],
   "source": [
    "plt.plot(z1,sigma1,'ko')\n",
    "plt.xlabel('Original number (z)')\n",
    "plt.ylabel('Softmaxified $\\sigma$')\n",
    "plt.yscale('log')\n",
    "plt.title('$\\sum\\sigma$ = %g' %np.sum(sigma1))\n",
    "plt.show()"
   ]
  },
  {
   "cell_type": "code",
   "execution_count": 60,
   "metadata": {},
   "outputs": [
    {
     "name": "stdout",
     "output_type": "stream",
     "text": [
      "tensor([5.6531e-03, 4.1771e-02, 2.8145e-04, 2.8145e-04, 5.6531e-03, 3.4734e-08,\n",
      "        1.2778e-08, 6.9765e-07, 5.1550e-06, 3.8090e-05, 1.7293e-09, 6.9765e-07,\n",
      "        9.4416e-08, 1.2778e-08, 4.7007e-09, 5.1550e-06, 5.6531e-03, 7.6506e-04,\n",
      "        7.6506e-04, 5.1550e-06, 2.3403e-10, 4.1771e-02, 2.8145e-04, 4.1771e-02,\n",
      "        1.5367e-02, 5.1550e-06, 1.7293e-09, 1.4013e-05, 6.9765e-07, 1.5367e-02,\n",
      "        3.8090e-05, 2.8145e-04, 1.5367e-02, 2.0797e-03, 5.1550e-06, 3.4734e-08,\n",
      "        1.8964e-06, 9.4416e-08, 6.3617e-10, 6.3617e-10, 9.4416e-08, 7.6506e-04,\n",
      "        1.8964e-06, 2.8145e-04, 1.4013e-05, 6.9765e-07, 1.8964e-06, 3.4734e-08,\n",
      "        6.3617e-10, 1.2778e-08, 1.0354e-04, 1.7293e-09, 7.6506e-04, 2.3403e-10,\n",
      "        6.9765e-07, 1.7293e-09, 1.2778e-08, 1.5367e-02, 4.1771e-02, 3.4734e-08,\n",
      "        4.7007e-09, 2.0797e-03, 2.8145e-04, 5.6531e-03, 2.8145e-04, 2.0797e-03,\n",
      "        2.8145e-04, 4.7007e-09, 9.4416e-08, 7.6506e-04, 1.4013e-05, 4.7007e-09,\n",
      "        3.4734e-08, 2.0797e-03, 9.4416e-08, 1.5367e-02, 1.4013e-05, 2.8145e-04,\n",
      "        2.5665e-07, 4.1771e-02, 6.3617e-10, 1.0354e-04, 1.5367e-02, 5.1550e-06,\n",
      "        3.8090e-05, 1.0354e-04, 6.9765e-07, 1.2778e-08, 5.6531e-03, 5.6531e-03,\n",
      "        3.4734e-08, 5.6531e-03, 2.3403e-10, 1.5367e-02, 6.3617e-10, 6.9765e-07,\n",
      "        4.1771e-02, 9.4416e-08, 2.3403e-10, 3.4734e-08, 4.7007e-09, 6.9765e-07,\n",
      "        1.5367e-02, 6.3617e-10, 4.1771e-02, 2.0797e-03, 3.8090e-05, 3.8090e-05,\n",
      "        3.8090e-05, 9.4416e-08, 5.6531e-03, 6.3617e-10, 1.0354e-04, 6.3617e-10,\n",
      "        5.6531e-03, 4.1771e-02, 5.6531e-03, 1.7293e-09, 2.0797e-03, 5.6531e-03,\n",
      "        7.6506e-04, 1.5367e-02, 3.8090e-05, 1.2778e-08, 2.5665e-07, 1.2778e-08,\n",
      "        2.5665e-07, 2.8145e-04, 4.1771e-02, 1.5367e-02, 9.4416e-08, 2.8145e-04,\n",
      "        1.4013e-05, 2.8145e-04, 1.5367e-02, 2.3403e-10, 2.0797e-03, 6.9765e-07,\n",
      "        3.8090e-05, 1.0354e-04, 5.1550e-06, 4.1771e-02, 9.4416e-08, 1.5367e-02,\n",
      "        6.9765e-07, 9.4416e-08, 1.2778e-08, 1.0354e-04, 6.9765e-07, 1.2778e-08,\n",
      "        1.5367e-02, 1.0354e-04, 1.2778e-08, 2.0797e-03, 4.7007e-09, 6.3617e-10,\n",
      "        1.5367e-02, 2.5665e-07, 4.7007e-09, 6.3617e-10, 1.0354e-04, 2.5665e-07,\n",
      "        1.5367e-02, 1.8964e-06, 6.9765e-07, 1.2778e-08, 2.8145e-04, 1.2778e-08,\n",
      "        7.6506e-04, 6.3617e-10, 2.8145e-04, 1.8964e-06, 7.6506e-04, 5.1550e-06,\n",
      "        4.1771e-02, 3.4734e-08, 2.8145e-04, 1.0354e-04, 1.4013e-05, 5.6531e-03,\n",
      "        5.6531e-03, 9.4416e-08, 6.3617e-10, 3.4734e-08, 5.1550e-06, 2.0797e-03,\n",
      "        1.2778e-08, 5.1550e-06, 7.6506e-04, 1.0354e-04, 6.9765e-07, 3.4734e-08,\n",
      "        6.9765e-07, 7.6506e-04, 7.6506e-04, 6.3617e-10, 1.5367e-02, 3.8090e-05,\n",
      "        2.3403e-10, 3.8090e-05, 2.0797e-03, 3.4734e-08, 6.3617e-10, 1.8964e-06,\n",
      "        4.7007e-09, 2.8145e-04, 6.3617e-10, 4.1771e-02, 5.1550e-06, 2.5665e-07,\n",
      "        1.0354e-04, 2.3403e-10, 1.5367e-02, 9.4416e-08, 1.2778e-08, 1.7293e-09,\n",
      "        9.4416e-08, 1.8964e-06, 2.8145e-04, 2.3403e-10, 9.4416e-08, 3.4734e-08,\n",
      "        1.2778e-08, 5.1550e-06, 5.1550e-06, 6.9765e-07, 2.5665e-07, 7.6506e-04,\n",
      "        6.9765e-07, 2.3403e-10, 1.7293e-09, 1.0354e-04, 6.3617e-10, 4.1771e-02,\n",
      "        4.1771e-02, 3.4734e-08, 2.3403e-10, 1.8964e-06, 4.1771e-02, 9.4416e-08,\n",
      "        6.9765e-07, 2.0797e-03, 3.4734e-08, 4.7007e-09, 1.4013e-05, 3.4734e-08,\n",
      "        1.7293e-09, 5.1550e-06, 3.8090e-05, 5.1550e-06])\n"
     ]
    }
   ],
   "source": [
    "#using pytorch\n",
    "#create an instance of the softmax activation class\n",
    "\n",
    "softfun = nn.Softmax(dim=0)\n",
    "\n",
    "#then apply the data to that function\n",
    "\n",
    "sigmaT = softfun(torch.Tensor(z1))\n",
    "\n",
    "print(sigmaT)"
   ]
  },
  {
   "cell_type": "code",
   "execution_count": 67,
   "metadata": {},
   "outputs": [
    {
     "data": {
      "image/png": "[encoded data removed]",
      "text/plain": [
       "<Figure size 432x288 with 1 Axes>"
      ]
     },
     "metadata": {
      "needs_background": "light"
     },
     "output_type": "display_data"
    }
   ],
   "source": [
    "plt.plot(z1,sigmaT,'ko')\n",
    "plt.xlabel('Original number (z)')\n",
    "plt.ylabel('Softmaxified $\\sigma1$')\n",
    "plt.title(\"$\\sum\\sigma1$=%g\" %np.sum(sigma1))\n",
    "plt.show()"
   ]
  },
  {
   "cell_type": "code",
   "execution_count": 68,
   "metadata": {},
   "outputs": [
    {
     "data": {
      "text/plain": [
       "<Figure size 720x288 with 0 Axes>"
      ]
     },
     "metadata": {},
     "output_type": "display_data"
    }
   ],
   "source": [
    "x = np.linspace(.0001,1,200)\n",
    "logx = np.log(x)\n",
    "fig = plt.figure(figsize=(10,4))"
   ]
  },
  {
   "cell_type": "code",
   "execution_count": 73,
   "metadata": {},
   "outputs": [
    {
     "data": {
      "image/png": "[encoded data removed]",
      "text/plain": [
       "<Figure size 432x288 with 1 Axes>"
      ]
     },
     "metadata": {
      "needs_background": "light"
     },
     "output_type": "display_data"
    }
   ],
   "source": [
    "plt.plot(x,logx,'ks-',markerfacecolor='w')\n",
    "plt.xlabel('x')\n",
    "plt.ylabel('log(x)')\n",
    "plt.show()"
   ]
  },
  {
   "cell_type": "code",
   "execution_count": 77,
   "metadata": {},
   "outputs": [
    {
     "name": "stderr",
     "output_type": "stream",
     "text": [
      "/Users/vadimsmirnov/opt/anaconda3/lib/python3.8/site-packages/matplotlib/text.py:1165: FutureWarning: elementwise comparison failed; returning scalar instead, but in the future will perform elementwise comparison\n",
      "  if s != self._text:\n"
     ]
    },
    {
     "data": {
      "image/png": "[encoded data removed]",
      "text/plain": [
       "<Figure size 432x288 with 1 Axes>"
      ]
     },
     "metadata": {
      "needs_background": "light"
     },
     "output_type": "display_data"
    }
   ],
   "source": [
    "#redefine with fewer points \n",
    "x = np.linspace(.0001,1,20)\n",
    "#log and exp\n",
    "logx = np.log(x)\n",
    "expx = np.exp(x)\n",
    "\n",
    "#the plot \n",
    "\n",
    "plt.plot(x,x,color = [.8,.8,.8])\n",
    "plt.plot(x,np.exp(logx),'o',markersize=8)\n",
    "plt.plot(x,np.log(expx),'x',markersize=8)\n",
    "plt.xlabel(x)\n",
    "plt.ylabel('f(g(x))')\n",
    "plt.legend(['unity','exp(log(x))','log(exp(x))'])\n",
    "plt.show()"
   ]
  },
  {
   "cell_type": "code",
   "execution_count": 78,
   "metadata": {},
   "outputs": [
    {
     "name": "stdout",
     "output_type": "stream",
     "text": [
      "Correct entropy: 0.5623351446188083\n"
     ]
    }
   ],
   "source": [
    "#THE CORRECT WAY TO COMPUTE ENTROPY\n",
    "x = [.25,.75]\n",
    "H=0\n",
    "for p in x:\n",
    "    H-=p*np.log(p)\n",
    "print('Correct entropy: '+str(H))"
   ]
  },
  {
   "cell_type": "code",
   "execution_count": 79,
   "metadata": {},
   "outputs": [
    {
     "name": "stdout",
     "output_type": "stream",
     "text": [
      "Correct entropy: 0.5623351446188083\n"
     ]
    }
   ],
   "source": [
    "#also correct, written out for N=2 events\n",
    "H=-(p*np.log(p)+(1-p)*np.log(1-p))\n",
    "print('Correct entropy: '+str(H))"
   ]
  },
  {
   "cell_type": "code",
   "execution_count": 80,
   "metadata": {},
   "outputs": [
    {
     "name": "stdout",
     "output_type": "stream",
     "text": [
      "Cross entropy: 1.3862943611198906\n"
     ]
    }
   ],
   "source": [
    "#cross-entropy\n",
    "#note:all probs must sum to 1!\n",
    "\n",
    "p=[1,0]\n",
    "q = [.25,.75]\n",
    "\n",
    "H=0\n",
    "for i in range(len(p)):\n",
    "    H-=p[i]*np.log(q[i])\n",
    "print('Cross entropy: '+str(H))"
   ]
  },
  {
   "cell_type": "code",
   "execution_count": 81,
   "metadata": {},
   "outputs": [],
   "source": [
    "import torch.nn.functional as F"
   ]
  },
  {
   "cell_type": "code",
   "execution_count": 82,
   "metadata": {},
   "outputs": [],
   "source": [
    "#note: imputs must be Tensors\n",
    "q_tensor = torch.Tensor(q)\n",
    "p_tensor = torch.Tensor(p)"
   ]
  },
  {
   "cell_type": "code",
   "execution_count": 84,
   "metadata": {},
   "outputs": [
    {
     "data": {
      "text/plain": [
       "tensor(1.3863)"
      ]
     },
     "execution_count": 84,
     "metadata": {},
     "output_type": "execute_result"
    }
   ],
   "source": [
    "F.binary_cross_entropy(q_tensor,p_tensor)"
   ]
  },
  {
   "cell_type": "code",
   "execution_count": 85,
   "metadata": {},
   "outputs": [],
   "source": [
    "#ARGMIN/ARGMAX"
   ]
  },
  {
   "cell_type": "code",
   "execution_count": 87,
   "metadata": {},
   "outputs": [
    {
     "name": "stdout",
     "output_type": "stream",
     "text": [
      "Min,max:-3,40\n",
      "Min,max indices: 3,1\n",
      " \n",
      "Min val is -3,Max val is 40\n"
     ]
    }
   ],
   "source": [
    "#create a vector\n",
    "v = np.array([1,40,2,-3])\n",
    "\n",
    "#find and report the maximum and minimum values\n",
    "minval = np.min(v)\n",
    "maxval = np.max(v)\n",
    "\n",
    "print('Min,max:%g,%g' %(minval,maxval))\n",
    "\n",
    "#now for the argmin/max\n",
    "\n",
    "minidx = np.argmin(v)\n",
    "maxidx = np.argmax(v)\n",
    "\n",
    "print('Min,max indices: %g,%g' %(minidx,maxidx)),print(' ')\n",
    "\n",
    "#confirm \n",
    "print(f'Min val is {v[minidx]},Max val is {v[maxidx]}')"
   ]
  },
  {
   "cell_type": "code",
   "execution_count": 90,
   "metadata": {},
   "outputs": [
    {
     "name": "stdout",
     "output_type": "stream",
     "text": [
      "A minimum value of the matrix is 0\n",
      "[0 1 5]\n",
      "[0 5]\n"
     ]
    }
   ],
   "source": [
    "#repeat with matrix\n",
    "\n",
    "M = np.array([ [0,1,10],\n",
    "               [20,8,5] ])\n",
    "\n",
    "#various minima in this matrix!\n",
    "\n",
    "minvals1 = np.min(M) # minimum from the entire matrix\n",
    "minvals2 = np.min(M, axis =0) #minimum of each column(accros rows)\n",
    "minvals3 = np.min(M,axis=1) #minimum of each row(accross columns)\n",
    "\n",
    "#print them out\n",
    "\n",
    "print(f\"A minimum value of the matrix is {minvals1}\")\n",
    "print(minvals2)\n",
    "print(minvals3)"
   ]
  },
  {
   "cell_type": "code",
   "execution_count": 91,
   "metadata": {},
   "outputs": [
    {
     "name": "stdout",
     "output_type": "stream",
     "text": [
      "0\n",
      "[0 0 1]\n",
      "[0 2]\n"
     ]
    }
   ],
   "source": [
    "#various minima in this matrix!\n",
    "\n",
    "minidx1 = np.argmin(M)\n",
    "minidx2 = np.argmin(M,axis=0)\n",
    "minidx3 = np.argmin(M,axis=1)\n",
    "# print them out\n",
    "\n",
    "print(minidx1)\n",
    "print(minidx2)\n",
    "print(minidx3)"
   ]
  },
  {
   "cell_type": "code",
   "execution_count": 92,
   "metadata": {},
   "outputs": [],
   "source": [
    "#USING TORCH"
   ]
  },
  {
   "cell_type": "code",
   "execution_count": 96,
   "metadata": {},
   "outputs": [
    {
     "name": "stdout",
     "output_type": "stream",
     "text": [
      "Min,max: -3,40\n",
      "Min,max: 3,1\n"
     ]
    }
   ],
   "source": [
    "#create a vector\n",
    "v = torch.tensor([1,40,2,-3])\n",
    "\n",
    "#find and report the maximum and minimum values\n",
    "\n",
    "minval = torch.min(v)\n",
    "maxval = torch.max(v)\n",
    "\n",
    "print(\"Min,max: %g,%g\"%(minval,maxval))\n",
    "\n",
    "#now for the argmin/max\n",
    "\n",
    "minidx = torch.argmin(v)\n",
    "maxidx = torch.argmax(v)\n",
    "\n",
    "print(\"Min,max: %g,%g\"%(minidx,maxidx))"
   ]
  },
  {
   "cell_type": "code",
   "execution_count": 97,
   "metadata": {},
   "outputs": [
    {
     "name": "stdout",
     "output_type": "stream",
     "text": [
      "Min,max: (tensor(-3), tensor(40))\n"
     ]
    }
   ],
   "source": [
    "print(f\"Min,max: {v[minidx],v[maxidx]}\")"
   ]
  },
  {
   "cell_type": "code",
   "execution_count": 107,
   "metadata": {},
   "outputs": [
    {
     "name": "stdout",
     "output_type": "stream",
     "text": [
      "tensor(0)\n",
      "tensor([0, 1, 5])   tensor([0, 0, 1])\n",
      "tensor([0, 5])   tensor([0, 2])\n"
     ]
    }
   ],
   "source": [
    "M = torch.tensor([ [0,1,10],\n",
    "                   [20,8,5] ])\n",
    "\n",
    "min = torch.min(M)\n",
    "min1 = torch.min(M,axis=0)\n",
    "min2 = torch.min(M,axis = 1)\n",
    "\n",
    "print(min)\n",
    "print(min1.values,\" \",min1.indices)\n",
    "print(min2.values,\" \",min2.indices)"
   ]
  },
  {
   "cell_type": "code",
   "execution_count": null,
   "metadata": {},
   "outputs": [],
   "source": [
    "#create a list of numbers to compute the mean and variance of "
   ]
  },
  {
   "cell_type": "code",
   "execution_count": 109,
   "metadata": {},
   "outputs": [
    {
     "name": "stdout",
     "output_type": "stream",
     "text": [
      "3.142857142857143\n",
      "3.142857142857143\n"
     ]
    }
   ],
   "source": [
    "x = [1,2,4,6,5,4,0]\n",
    "\n",
    "n = len(x)\n",
    "\n",
    "#compute the mean\n",
    "\n",
    "mean1 = np.mean(x)\n",
    "mean2 = np.sum(x)/n\n",
    "\n",
    "#print them\n",
    "\n",
    "print(mean1)\n",
    "print(mean2)"
   ]
  },
  {
   "cell_type": "code",
   "execution_count": 111,
   "metadata": {},
   "outputs": [
    {
     "name": "stdout",
     "output_type": "stream",
     "text": [
      "4.809523809523809   4.809523809523809\n"
     ]
    }
   ],
   "source": [
    "#variance\n",
    "\n",
    "var1 = np.var(x,ddof=1)\n",
    "var2 = (1/(n-1))*np.sum((x-mean1)**2)\n",
    "\n",
    "print(var1,\" \",var2)"
   ]
  },
  {
   "cell_type": "code",
   "execution_count": 113,
   "metadata": {},
   "outputs": [
    {
     "name": "stdout",
     "output_type": "stream",
     "text": [
      "33.25344047749999 33.253773015230145\n"
     ]
    }
   ],
   "source": [
    "#does it matter for large N?\n",
    "\n",
    "N = 100000\n",
    "x = np.random.randint(0,high=20,size = N)\n",
    "\n",
    "var0 = np.var(x,ddof=0) #default\n",
    "var1 = np.var(x,ddof=1) #unbiased\n",
    "\n",
    "print(var0,var1)"
   ]
  },
  {
   "cell_type": "code",
   "execution_count": 125,
   "metadata": {},
   "outputs": [
    {
     "name": "stdout",
     "output_type": "stream",
     "text": [
      "1.625\n",
      "-3.8\n",
      "-9   10\n"
     ]
    }
   ],
   "source": [
    "#create a list of numbers to compute the mean and variance of\n",
    "\n",
    "x = [1,2,4,6,5,4,0,-4,5,-2,6,10,-9,1,3,-6]\n",
    "n = len(x)\n",
    "\n",
    "#compute the population mean\n",
    "popmean = np.mean(x)\n",
    "\n",
    "#compute a sample mean\n",
    "\n",
    "sample = np.random.choice(x,size=5,replace = True)\n",
    "sampmean = np.mean(sample)\n",
    "\n",
    "# print them\n",
    "\n",
    "print(popmean)\n",
    "print(sampmean)\n",
    "print(np.min(x), \" \",np.max(x))"
   ]
  },
  {
   "cell_type": "code",
   "execution_count": 120,
   "metadata": {},
   "outputs": [],
   "source": [
    "#compute lots of sample means\n",
    "#number of experiments to run\n",
    "nExpers = 10000\n",
    "\n",
    "#run the experiment\n",
    "sampleMeans = np.zeros(nExpers)\n",
    "for i in range(nExpers):\n",
    "    #step 1: draw a sample\n",
    "    sample = np.random.choice(x,size=5,replace = True)\n",
    "    #step 2: compute its mean\n",
    "    sampleMeans[i] = np.mean(sample)"
   ]
  },
  {
   "cell_type": "code",
   "execution_count": 132,
   "metadata": {},
   "outputs": [
    {
     "data": {
      "image/png": "[encoded data removed]",
      "text/plain": [
       "<Figure size 432x288 with 1 Axes>"
      ]
     },
     "metadata": {
      "needs_background": "light"
     },
     "output_type": "display_data"
    }
   ],
   "source": [
    "#show the results as a histogram \n",
    "plt.hist(sampleMeans,bins=40,density = True)\n",
    "plt.plot([popmean,popmean],[0,.25],'m--')\n",
    "plt.ylabel('Count')\n",
    "plt.xlabel('Sample mean')\n",
    "plt.show()"
   ]
  },
  {
   "cell_type": "code",
   "execution_count": 136,
   "metadata": {},
   "outputs": [
    {
     "name": "stdout",
     "output_type": "stream",
     "text": [
      "[ 0.27626589 -1.85462808  0.62390111  1.14531129  1.03719047]\n",
      "[ 1.88663893 -0.11169829 -0.36210134  0.14867505 -0.43778315]\n"
     ]
    }
   ],
   "source": [
    "#generate a few random numbers\n",
    "np.random.randn(5)\n",
    "#repeat after fixing the seeds\n",
    "np.random.seed(17)\n",
    "print(np.random.randn(5))\n",
    "print(np.random.randn(5))"
   ]
  },
  {
   "cell_type": "code",
   "execution_count": 148,
   "metadata": {},
   "outputs": [
    {
     "name": "stdout",
     "output_type": "stream",
     "text": [
      "[ 0.27626589 -1.85462808  0.62390111  1.14531129  1.03719047]\n",
      "[-0.24972681 -1.01951826  2.23461339  0.72764703  1.2921122 ]\n",
      "[ 1.88663893 -0.11169829 -0.36210134  0.14867505 -0.43778315]\n",
      "[ 1.15494929 -0.0015467  -0.11196868 -1.08136725  0.10265891]\n"
     ]
    }
   ],
   "source": [
    "#new seed mechanism in numpy\n",
    "randseed1 = np.random.RandomState(17)\n",
    "randseed2 = np.random.RandomState(20210530)\n",
    "print(randseed1.randn(5))\n",
    "print(randseed2.randn(5))\n",
    "print(randseed1.randn(5))\n",
    "print(randseed2.randn(5))"
   ]
  },
  {
   "cell_type": "code",
   "execution_count": 149,
   "metadata": {},
   "outputs": [],
   "source": [
    "#Pytorch"
   ]
  },
  {
   "cell_type": "code",
   "execution_count": 157,
   "metadata": {},
   "outputs": [
    {
     "name": "stdout",
     "output_type": "stream",
     "text": [
      "tensor([-1.4135,  0.2336,  0.0340,  0.3499, -0.0145])\n"
     ]
    }
   ],
   "source": [
    "torch.manual_seed(17)\n",
    "print(torch.randn(5))"
   ]
  },
  {
   "cell_type": "code",
   "execution_count": 158,
   "metadata": {},
   "outputs": [
    {
     "name": "stdout",
     "output_type": "stream",
     "text": [
      "[ 2.171257    1.15231025 -1.81881234 -0.13804934  0.53983961]\n"
     ]
    }
   ],
   "source": [
    "print(np.random.randn(5))"
   ]
  },
  {
   "cell_type": "code",
   "execution_count": 159,
   "metadata": {},
   "outputs": [],
   "source": [
    "import scipy.stats as stats"
   ]
  },
  {
   "cell_type": "code",
   "execution_count": 161,
   "metadata": {},
   "outputs": [
    {
     "data": {
      "image/png": "[encoded data removed]",
      "text/plain": [
       "<Figure size 432x288 with 1 Axes>"
      ]
     },
     "metadata": {
      "needs_background": "light"
     },
     "output_type": "display_data"
    }
   ],
   "source": [
    "#parameters\n",
    "n1 = 30 #samples in dataset1\n",
    "n2 = 40 #...and 2\n",
    "mu1 = 1 #population mean in dataset 1\n",
    "mu2 = 2 #population mean in dataset 1\n",
    "\n",
    "#generate the data\n",
    "data1 = mu1+ np.random.randn(n1)\n",
    "data2 = mu2 + np.random.randn(n2)\n",
    "\n",
    "#plot them\n",
    "plt.plot(np.zeros(n1),data1,'ro',markerfacecolor = 'w',markersize = 14)\n",
    "plt.plot(np.ones(n2),data2,'bs',markerfacecolor = 'w',markersize=14)\n",
    "plt.xlim([-1,2])\n",
    "plt.xticks([0,1],labels=['Group1','Group 2'])\n",
    "plt.show()"
   ]
  },
  {
   "cell_type": "code",
   "execution_count": 162,
   "metadata": {},
   "outputs": [
    {
     "name": "stdout",
     "output_type": "stream",
     "text": [
      "-3.1647239428786005\n",
      "0.0023223811536147118\n"
     ]
    }
   ],
   "source": [
    "#t-test via stats package\n",
    "#_ind = independent samples\n",
    "t,p = stats.ttest_ind(data1,data2)\n",
    "print(t)\n",
    "print(p)"
   ]
  },
  {
   "cell_type": "code",
   "execution_count": 164,
   "metadata": {},
   "outputs": [
    {
     "data": {
      "text/plain": [
       "Text(0.5, 1.0, 't = -3.16, p=0.002')"
      ]
     },
     "execution_count": 164,
     "metadata": {},
     "output_type": "execute_result"
    },
    {
     "data": {
      "image/png": "[encoded data removed]",
      "text/plain": [
       "<Figure size 720x288 with 1 Axes>"
      ]
     },
     "metadata": {
      "needs_background": "light"
     },
     "output_type": "display_data"
    }
   ],
   "source": [
    "#common way to show t-test results in a plot\n",
    "fig = plt.figure(figsize=(10,4))\n",
    "plt.rcParams.update({'font.size':12}) # change the fint size\n",
    "plt.plot(0+np.random.randn(n1)/15,data1,'ro',markerfacecolor='w',markersize=14)\n",
    "plt.plot(1+np.random.randn(n2)/15,data2,'bs',markerfacecolor='w',markersize=14)\n",
    "plt.xlim([-1,2])\n",
    "plt.xticks([0,1],labels=['Group 1','Group 2'])\n",
    "\n",
    "#set the title to include the t-value and p-value\n",
    "plt.title(f't = {t:.2f}, p={p:.3f}')"
   ]
  },
  {
   "cell_type": "code",
   "execution_count": 165,
   "metadata": {},
   "outputs": [],
   "source": [
    "import sympy as sym\n",
    "import sympy.plotting.plot as symplot"
   ]
  },
  {
   "cell_type": "code",
   "execution_count": 166,
   "metadata": {},
   "outputs": [
    {
     "name": "stdout",
     "output_type": "stream",
     "text": [
      "2*x**2\n",
      "4*x\n"
     ]
    }
   ],
   "source": [
    "#create symbolic variables in sympy\n",
    "x = sym.symbols('x')\n",
    "#create a function\n",
    "fx = 2*x**2\n",
    "\n",
    "#compute its derivative\n",
    "df = sym.diff(fx,x)\n",
    "\n",
    "print(fx)\n",
    "print(df)\n",
    "\n"
   ]
  },
  {
   "cell_type": "code",
   "execution_count": 170,
   "metadata": {},
   "outputs": [
    {
     "data": {
      "image/png": "[encoded data removed]",
      "text/plain": [
       "<Figure size 432x288 with 1 Axes>"
      ]
     },
     "metadata": {
      "needs_background": "light"
     },
     "output_type": "display_data"
    },
    {
     "data": {
      "image/png": "[encoded data removed]",
      "text/plain": [
       "<Figure size 432x288 with 1 Axes>"
      ]
     },
     "metadata": {
      "needs_background": "light"
     },
     "output_type": "display_data"
    }
   ],
   "source": [
    "symplot(fx,(x,-4,4),title = 'the function')\n",
    "symplot(df,(x,-4,4),title = 'its derivative')\n",
    "plt.show()"
   ]
  },
  {
   "cell_type": "code",
   "execution_count": 172,
   "metadata": {},
   "outputs": [
    {
     "data": {
      "image/png": "[encoded data removed]",
      "text/plain": [
       "<Figure size 432x288 with 1 Axes>"
      ]
     },
     "metadata": {
      "needs_background": "light"
     },
     "output_type": "display_data"
    },
    {
     "data": {
      "image/png": "[encoded data removed]",
      "text/plain": [
       "<Figure size 432x288 with 1 Axes>"
      ]
     },
     "metadata": {
      "needs_background": "light"
     },
     "output_type": "display_data"
    }
   ],
   "source": [
    "#repeat with relu and sigmoid\n",
    "\n",
    "#create symbolic functions\n",
    "\n",
    "relu = sym.Max(0,x)\n",
    "sigmoid = 1/ (1+sym.exp(-x))\n",
    "\n",
    "#graph the function\n",
    "\n",
    "p = symplot(relu,(x,-4,4),label='ReLU',show = False,line_color = 'blue')\n",
    "p.extend(symplot(sigmoid,(x,-4,4),label='Sigmoid',show = False,line_color = 'red'))\n",
    "p.legend = True\n",
    "p.title = 'The functions'\n",
    "p.show()\n",
    "\n",
    "#graph the function\n",
    "\n",
    "p = symplot(sym.diff(relu),(x,-4,4),label='ReLU',show = False,line_color = 'blue')\n",
    "p.extend(symplot(sym.diff(sigmoid),(x,-4,4),label='Sigmoid',show = False,line_color = 'red'))\n",
    "p.legend = True\n",
    "p.title = 'The derivatives'\n",
    "p.show()"
   ]
  },
  {
   "cell_type": "code",
   "execution_count": 176,
   "metadata": {},
   "outputs": [
    {
     "data": {
      "text/latex": [
       "$\\displaystyle 2 x^{2} \\left(- 12 x^{3} + 12 x^{2}\\right) + 4 x \\left(- 3 x^{4} + 4 x^{3}\\right)$"
      ],
      "text/plain": [
       "2*x**2*(-12*x**3 + 12*x**2) + 4*x*(-3*x**4 + 4*x**3)"
      ]
     },
     "metadata": {},
     "output_type": "display_data"
    },
    {
     "data": {
      "text/latex": [
       "$\\displaystyle 4 x$"
      ],
      "text/plain": [
       "4*x"
      ]
     },
     "metadata": {},
     "output_type": "display_data"
    },
    {
     "data": {
      "text/latex": [
       "$\\displaystyle - 12 x^{3} + 12 x^{2}$"
      ],
      "text/plain": [
       "-12*x**3 + 12*x**2"
      ]
     },
     "metadata": {},
     "output_type": "display_data"
    }
   ],
   "source": [
    "from IPython.display import display\n",
    "\n",
    "#create symbolic variables in sympy\n",
    "\n",
    "x = sym.symbols('x')\n",
    "#create two functions\n",
    "fx =2*x**2\n",
    "gx = 4*x**3-3*x**4\n",
    "df=sym.diff(fx)\n",
    "dg=sym.diff(gx)\n",
    "dfg=sym.diff(fx*gx)\n",
    "display(dfg,df,dg)"
   ]
  },
  {
   "cell_type": "code",
   "execution_count": null,
   "metadata": {},
   "outputs": [],
   "source": []
  }
 ],
 "metadata": {
  "kernelspec": {
   "display_name": "Python 3",
   "language": "python",
   "name": "python3"
  },
  "language_info": {
   "codemirror_mode": {
    "name": "ipython",
    "version": 3
   },
   "file_extension": ".py",
   "mimetype": "text/x-python",
   "name": "python",
   "nbconvert_exporter": "python",
   "pygments_lexer": "ipython3",
   "version": "3.8.5"
  }
 },
 "nbformat": 4,
 "nbformat_minor": 4
}
